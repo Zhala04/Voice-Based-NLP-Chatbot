{
  "nbformat": 4,
  "nbformat_minor": 0,
  "metadata": {
    "colab": {
      "provenance": []
    },
    "kernelspec": {
      "name": "python3",
      "display_name": "Python 3"
    },
    "language_info": {
      "name": "python"
    }
  },
  "cells": [
    {
      "cell_type": "code",
      "source": [
        "!pip install SpeechRecognition pydub gTTS\n"
      ],
      "metadata": {
        "id": "rLBqfojs8kdG",
        "colab": {
          "base_uri": "https://localhost:8080/"
        },
        "outputId": "ccfde25a-f93e-4494-effc-1f785948699e"
      },
      "execution_count": 8,
      "outputs": [
        {
          "output_type": "stream",
          "name": "stdout",
          "text": [
            "Collecting SpeechRecognition\n",
            "  Downloading speechrecognition-3.14.3-py3-none-any.whl.metadata (30 kB)\n",
            "Requirement already satisfied: pydub in /usr/local/lib/python3.11/dist-packages (0.25.1)\n",
            "Collecting gTTS\n",
            "  Downloading gTTS-2.5.4-py3-none-any.whl.metadata (4.1 kB)\n",
            "Requirement already satisfied: typing-extensions in /usr/local/lib/python3.11/dist-packages (from SpeechRecognition) (4.14.0)\n",
            "Requirement already satisfied: requests<3,>=2.27 in /usr/local/lib/python3.11/dist-packages (from gTTS) (2.32.3)\n",
            "Collecting click<8.2,>=7.1 (from gTTS)\n",
            "  Downloading click-8.1.8-py3-none-any.whl.metadata (2.3 kB)\n",
            "Requirement already satisfied: charset-normalizer<4,>=2 in /usr/local/lib/python3.11/dist-packages (from requests<3,>=2.27->gTTS) (3.4.2)\n",
            "Requirement already satisfied: idna<4,>=2.5 in /usr/local/lib/python3.11/dist-packages (from requests<3,>=2.27->gTTS) (3.10)\n",
            "Requirement already satisfied: urllib3<3,>=1.21.1 in /usr/local/lib/python3.11/dist-packages (from requests<3,>=2.27->gTTS) (2.4.0)\n",
            "Requirement already satisfied: certifi>=2017.4.17 in /usr/local/lib/python3.11/dist-packages (from requests<3,>=2.27->gTTS) (2025.4.26)\n",
            "Downloading speechrecognition-3.14.3-py3-none-any.whl (32.9 MB)\n",
            "\u001b[2K   \u001b[90m━━━━━━━━━━━━━━━━━━━━━━━━━━━━━━━━━━━━━━━━\u001b[0m \u001b[32m32.9/32.9 MB\u001b[0m \u001b[31m18.0 MB/s\u001b[0m eta \u001b[36m0:00:00\u001b[0m\n",
            "\u001b[?25hDownloading gTTS-2.5.4-py3-none-any.whl (29 kB)\n",
            "Downloading click-8.1.8-py3-none-any.whl (98 kB)\n",
            "\u001b[2K   \u001b[90m━━━━━━━━━━━━━━━━━━━━━━━━━━━━━━━━━━━━━━━━\u001b[0m \u001b[32m98.2/98.2 kB\u001b[0m \u001b[31m8.9 MB/s\u001b[0m eta \u001b[36m0:00:00\u001b[0m\n",
            "\u001b[?25hInstalling collected packages: SpeechRecognition, click, gTTS\n",
            "  Attempting uninstall: click\n",
            "    Found existing installation: click 8.2.1\n",
            "    Uninstalling click-8.2.1:\n",
            "      Successfully uninstalled click-8.2.1\n",
            "Successfully installed SpeechRecognition-3.14.3 click-8.1.8 gTTS-2.5.4\n"
          ]
        }
      ]
    },
    {
      "cell_type": "code",
      "source": [
        "!apt-get install ffmpeg"
      ],
      "metadata": {
        "id": "pUOvwdUW8kaX",
        "colab": {
          "base_uri": "https://localhost:8080/"
        },
        "outputId": "4134d0f0-d699-4b0f-c3e7-99c968e9fa90"
      },
      "execution_count": 9,
      "outputs": [
        {
          "output_type": "stream",
          "name": "stdout",
          "text": [
            "Reading package lists... Done\n",
            "Building dependency tree... Done\n",
            "Reading state information... Done\n",
            "ffmpeg is already the newest version (7:4.4.2-0ubuntu0.22.04.1).\n",
            "0 upgraded, 0 newly installed, 0 to remove and 35 not upgraded.\n"
          ]
        }
      ]
    },
    {
      "cell_type": "code",
      "source": [
        "from google.colab import drive,files\n",
        "import speech_recognition as sr\n",
        "from pydub import AudioSegment\n",
        "import io\n",
        "from gtts import gTTS\n",
        "from IPython.display import Audio\n",
        "import torch\n",
        "from transformers import AutoModelForCausalLM, AutoTokenizer"
      ],
      "metadata": {
        "id": "i0VuP95Q8kUr"
      },
      "execution_count": 10,
      "outputs": []
    },
    {
      "cell_type": "code",
      "source": [
        "drive.mount('/content/drive')"
      ],
      "metadata": {
        "id": "FSZL8sQoEUiW"
      },
      "execution_count": null,
      "outputs": []
    },
    {
      "cell_type": "code",
      "source": [
        "model_path = '/content/drive/MyDrive/dialogpt_model'"
      ],
      "metadata": {
        "id": "svsUFmd2EVLP"
      },
      "execution_count": null,
      "outputs": []
    },
    {
      "cell_type": "code",
      "source": [
        "tokenizer = AutoTokenizer.from_pretrained(model_path)\n",
        "model = AutoModelForCausalLM.from_pretrained(model_path)"
      ],
      "metadata": {
        "id": "0jGfJP-LEgnP"
      },
      "execution_count": null,
      "outputs": []
    },
    {
      "cell_type": "code",
      "source": [
        "device = torch.device(\"cuda\" if torch.cuda.is_available() else \"cpu\")\n",
        "model.to(device)\n",
        "model.eval()\n",
        "\n",
        "# Model Response Function\n",
        "def get_response(input_text):\n",
        "    encoded_input = tokenizer(\n",
        "        input_text + tokenizer.eos_token,\n",
        "        return_tensors=\"pt\",\n",
        "        padding=True,\n",
        "        truncation=True\n",
        "    )\n",
        "    input_ids = encoded_input['input_ids'].to(device)\n",
        "    attention_mask = encoded_input['attention_mask'].to(device)\n",
        "\n",
        "    output_ids = model.generate(\n",
        "        input_ids=input_ids,\n",
        "        attention_mask=attention_mask,\n",
        "        max_length=1000,\n",
        "        pad_token_id=tokenizer.eos_token_id,\n",
        "        do_sample=True,\n",
        "        top_k=50,\n",
        "        top_p=0.95\n",
        "    )\n",
        "\n",
        "    response = tokenizer.decode(output_ids[:, input_ids.shape[-1]:][0], skip_special_tokens=True)\n",
        "    return response\n",
        "\n",
        "\n"
      ],
      "metadata": {
        "id": "lLpG3ld28kRy"
      },
      "execution_count": 13,
      "outputs": []
    },
    {
      "cell_type": "code",
      "source": [
        "# Upload Audio and Recognize\n",
        "uploaded = files.upload()\n",
        "file_name = next(iter(uploaded))\n",
        "\n",
        "if not file_name.endswith(\".wav\"):\n",
        "    audio = AudioSegment.from_file(io.BytesIO(uploaded[file_name]))\n",
        "    file_name = file_name.rsplit(\".\", 1)[0] + \".wav\"\n",
        "    audio.export(file_name, format=\"wav\")\n",
        "\n",
        "recognizer = sr.Recognizer()\n",
        "with sr.AudioFile(file_name) as source:\n",
        "    audio_data = recognizer.record(source)\n",
        "    try:\n",
        "        user_input = recognizer.recognize_google(audio_data)\n",
        "        print(\"🗣️ Recognized Speech:\", user_input)\n",
        "    except sr.UnknownValueError:\n",
        "        print(\"Could not understand the audio.\")\n",
        "        user_input = \"\""
      ],
      "metadata": {
        "id": "AHa5Eo0c8kOz",
        "colab": {
          "base_uri": "https://localhost:8080/",
          "height": 90
        },
        "outputId": "2e013265-cd01-480d-a433-3377a1e7053d"
      },
      "execution_count": 17,
      "outputs": [
        {
          "output_type": "display_data",
          "data": {
            "text/plain": [
              "<IPython.core.display.HTML object>"
            ],
            "text/html": [
              "\n",
              "     <input type=\"file\" id=\"files-383e0973-376a-47eb-81e9-1ed04570fabe\" name=\"files[]\" multiple disabled\n",
              "        style=\"border:none\" />\n",
              "     <output id=\"result-383e0973-376a-47eb-81e9-1ed04570fabe\">\n",
              "      Upload widget is only available when the cell has been executed in the\n",
              "      current browser session. Please rerun this cell to enable.\n",
              "      </output>\n",
              "      <script>// Copyright 2017 Google LLC\n",
              "//\n",
              "// Licensed under the Apache License, Version 2.0 (the \"License\");\n",
              "// you may not use this file except in compliance with the License.\n",
              "// You may obtain a copy of the License at\n",
              "//\n",
              "//      http://www.apache.org/licenses/LICENSE-2.0\n",
              "//\n",
              "// Unless required by applicable law or agreed to in writing, software\n",
              "// distributed under the License is distributed on an \"AS IS\" BASIS,\n",
              "// WITHOUT WARRANTIES OR CONDITIONS OF ANY KIND, either express or implied.\n",
              "// See the License for the specific language governing permissions and\n",
              "// limitations under the License.\n",
              "\n",
              "/**\n",
              " * @fileoverview Helpers for google.colab Python module.\n",
              " */\n",
              "(function(scope) {\n",
              "function span(text, styleAttributes = {}) {\n",
              "  const element = document.createElement('span');\n",
              "  element.textContent = text;\n",
              "  for (const key of Object.keys(styleAttributes)) {\n",
              "    element.style[key] = styleAttributes[key];\n",
              "  }\n",
              "  return element;\n",
              "}\n",
              "\n",
              "// Max number of bytes which will be uploaded at a time.\n",
              "const MAX_PAYLOAD_SIZE = 100 * 1024;\n",
              "\n",
              "function _uploadFiles(inputId, outputId) {\n",
              "  const steps = uploadFilesStep(inputId, outputId);\n",
              "  const outputElement = document.getElementById(outputId);\n",
              "  // Cache steps on the outputElement to make it available for the next call\n",
              "  // to uploadFilesContinue from Python.\n",
              "  outputElement.steps = steps;\n",
              "\n",
              "  return _uploadFilesContinue(outputId);\n",
              "}\n",
              "\n",
              "// This is roughly an async generator (not supported in the browser yet),\n",
              "// where there are multiple asynchronous steps and the Python side is going\n",
              "// to poll for completion of each step.\n",
              "// This uses a Promise to block the python side on completion of each step,\n",
              "// then passes the result of the previous step as the input to the next step.\n",
              "function _uploadFilesContinue(outputId) {\n",
              "  const outputElement = document.getElementById(outputId);\n",
              "  const steps = outputElement.steps;\n",
              "\n",
              "  const next = steps.next(outputElement.lastPromiseValue);\n",
              "  return Promise.resolve(next.value.promise).then((value) => {\n",
              "    // Cache the last promise value to make it available to the next\n",
              "    // step of the generator.\n",
              "    outputElement.lastPromiseValue = value;\n",
              "    return next.value.response;\n",
              "  });\n",
              "}\n",
              "\n",
              "/**\n",
              " * Generator function which is called between each async step of the upload\n",
              " * process.\n",
              " * @param {string} inputId Element ID of the input file picker element.\n",
              " * @param {string} outputId Element ID of the output display.\n",
              " * @return {!Iterable<!Object>} Iterable of next steps.\n",
              " */\n",
              "function* uploadFilesStep(inputId, outputId) {\n",
              "  const inputElement = document.getElementById(inputId);\n",
              "  inputElement.disabled = false;\n",
              "\n",
              "  const outputElement = document.getElementById(outputId);\n",
              "  outputElement.innerHTML = '';\n",
              "\n",
              "  const pickedPromise = new Promise((resolve) => {\n",
              "    inputElement.addEventListener('change', (e) => {\n",
              "      resolve(e.target.files);\n",
              "    });\n",
              "  });\n",
              "\n",
              "  const cancel = document.createElement('button');\n",
              "  inputElement.parentElement.appendChild(cancel);\n",
              "  cancel.textContent = 'Cancel upload';\n",
              "  const cancelPromise = new Promise((resolve) => {\n",
              "    cancel.onclick = () => {\n",
              "      resolve(null);\n",
              "    };\n",
              "  });\n",
              "\n",
              "  // Wait for the user to pick the files.\n",
              "  const files = yield {\n",
              "    promise: Promise.race([pickedPromise, cancelPromise]),\n",
              "    response: {\n",
              "      action: 'starting',\n",
              "    }\n",
              "  };\n",
              "\n",
              "  cancel.remove();\n",
              "\n",
              "  // Disable the input element since further picks are not allowed.\n",
              "  inputElement.disabled = true;\n",
              "\n",
              "  if (!files) {\n",
              "    return {\n",
              "      response: {\n",
              "        action: 'complete',\n",
              "      }\n",
              "    };\n",
              "  }\n",
              "\n",
              "  for (const file of files) {\n",
              "    const li = document.createElement('li');\n",
              "    li.append(span(file.name, {fontWeight: 'bold'}));\n",
              "    li.append(span(\n",
              "        `(${file.type || 'n/a'}) - ${file.size} bytes, ` +\n",
              "        `last modified: ${\n",
              "            file.lastModifiedDate ? file.lastModifiedDate.toLocaleDateString() :\n",
              "                                    'n/a'} - `));\n",
              "    const percent = span('0% done');\n",
              "    li.appendChild(percent);\n",
              "\n",
              "    outputElement.appendChild(li);\n",
              "\n",
              "    const fileDataPromise = new Promise((resolve) => {\n",
              "      const reader = new FileReader();\n",
              "      reader.onload = (e) => {\n",
              "        resolve(e.target.result);\n",
              "      };\n",
              "      reader.readAsArrayBuffer(file);\n",
              "    });\n",
              "    // Wait for the data to be ready.\n",
              "    let fileData = yield {\n",
              "      promise: fileDataPromise,\n",
              "      response: {\n",
              "        action: 'continue',\n",
              "      }\n",
              "    };\n",
              "\n",
              "    // Use a chunked sending to avoid message size limits. See b/62115660.\n",
              "    let position = 0;\n",
              "    do {\n",
              "      const length = Math.min(fileData.byteLength - position, MAX_PAYLOAD_SIZE);\n",
              "      const chunk = new Uint8Array(fileData, position, length);\n",
              "      position += length;\n",
              "\n",
              "      const base64 = btoa(String.fromCharCode.apply(null, chunk));\n",
              "      yield {\n",
              "        response: {\n",
              "          action: 'append',\n",
              "          file: file.name,\n",
              "          data: base64,\n",
              "        },\n",
              "      };\n",
              "\n",
              "      let percentDone = fileData.byteLength === 0 ?\n",
              "          100 :\n",
              "          Math.round((position / fileData.byteLength) * 100);\n",
              "      percent.textContent = `${percentDone}% done`;\n",
              "\n",
              "    } while (position < fileData.byteLength);\n",
              "  }\n",
              "\n",
              "  // All done.\n",
              "  yield {\n",
              "    response: {\n",
              "      action: 'complete',\n",
              "    }\n",
              "  };\n",
              "}\n",
              "\n",
              "scope.google = scope.google || {};\n",
              "scope.google.colab = scope.google.colab || {};\n",
              "scope.google.colab._files = {\n",
              "  _uploadFiles,\n",
              "  _uploadFilesContinue,\n",
              "};\n",
              "})(self);\n",
              "</script> "
            ]
          },
          "metadata": {}
        },
        {
          "output_type": "stream",
          "name": "stdout",
          "text": [
            "Saving New Recording 5.mp3 to New Recording 5.mp3\n",
            "🗣️ Recognized Speech: how do you feel today\n"
          ]
        }
      ]
    },
    {
      "cell_type": "code",
      "source": [
        "# Get Bot Response\n",
        "bot_reply = get_response(user_input)\n",
        "print(\"Model Input:\", user_input)\n",
        "print(\"Model Output:\", bot_reply)\n",
        "tts = gTTS(bot_reply)\n",
        "tts.save(\"reply.mp3\")\n",
        "Audio(\"reply.mp3\", autoplay=True)"
      ],
      "metadata": {
        "id": "qYgoxI2a8kL7",
        "colab": {
          "base_uri": "https://localhost:8080/",
          "height": 110
        },
        "outputId": "14c020ba-d3ed-4d43-b081-741ed4cff756"
      },
      "execution_count": 18,
      "outputs": [
        {
          "output_type": "stream",
          "name": "stdout",
          "text": [
            "Model Input: how do you feel today\n",
            "Model Output: I feel a little lightheaded. What's up?\n"
          ]
        },
        {
          "output_type": "execute_result",
          "data": {
            "text/plain": [
              "<IPython.lib.display.Audio object>"
            ],
            "text/html": [
              "\n",
              "                <audio  controls=\"controls\" autoplay=\"autoplay\">\n",
              "                    <source src=\"data:audio/mpeg;base64,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\" type=\"audio/mpeg\" />\n",
              "                    Your browser does not support the audio element.\n",
              "                </audio>\n",
              "              "
            ]
          },
          "metadata": {},
          "execution_count": 18
        }
      ]
    },
    {
      "cell_type": "code",
      "source": [],
      "metadata": {
        "id": "5Pkwp3LD8kC8"
      },
      "execution_count": null,
      "outputs": []
    },
    {
      "cell_type": "code",
      "source": [],
      "metadata": {
        "id": "qCvEf10HEJJL"
      },
      "execution_count": null,
      "outputs": []
    }
  ]
}